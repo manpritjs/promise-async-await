{
 "cells": [
  {
   "cell_type": "code",
   "execution_count": 8,
   "id": "6016f41e",
   "metadata": {},
   "outputs": [
    {
     "name": "stderr",
     "output_type": "stream",
     "text": [
      "[stdin]:2\n",
      "    if (x < 9) throw new Error(\"Smallvalue\")\n",
      "               ^\n",
      "\n",
      "Error: Smallvalue\n",
      "    at Timeout.printVal [as _onTimeout] ([stdin]:2:22)\n",
      "\u001b[90m    at listOnTimeout (node:internal/timers:575:11)\u001b[39m\n",
      "\u001b[90m    at process.processTimers (node:internal/timers:514:7)\u001b[39m\n",
      "\n",
      "Node.js v20.13.1\n"
     ]
    },
    {
     "ename": "CalledProcessError",
     "evalue": "Command 'b'function printVal(x){\\n    if (x < 9) throw new Error(\"Smallvalue\")\\n    console.log(x)\\n}\\n\\n\\ntry{\\n    setTimeout(printVal, 3000, 6)  \\n}catch(e){\\n    console.log(e)\\n}\\n'' returned non-zero exit status 1.",
     "output_type": "error",
     "traceback": [
      "\u001b[1;31m---------------------------------------------------------------------------\u001b[0m",
      "\u001b[1;31mCalledProcessError\u001b[0m                        Traceback (most recent call last)",
      "Cell \u001b[1;32mIn[8], line 1\u001b[0m\n\u001b[1;32m----> 1\u001b[0m \u001b[43mget_ipython\u001b[49m\u001b[43m(\u001b[49m\u001b[43m)\u001b[49m\u001b[38;5;241;43m.\u001b[39;49m\u001b[43mrun_cell_magic\u001b[49m\u001b[43m(\u001b[49m\u001b[38;5;124;43m'\u001b[39;49m\u001b[38;5;124;43mscript\u001b[39;49m\u001b[38;5;124;43m'\u001b[39;49m\u001b[43m,\u001b[49m\u001b[43m \u001b[49m\u001b[38;5;124;43m'\u001b[39;49m\u001b[38;5;124;43mnode\u001b[39;49m\u001b[38;5;124;43m'\u001b[39;49m\u001b[43m,\u001b[49m\u001b[43m \u001b[49m\u001b[38;5;124;43m'\u001b[39;49m\u001b[38;5;124;43mfunction printVal(x)\u001b[39;49m\u001b[38;5;124;43m{\u001b[39;49m\u001b[38;5;130;43;01m\\n\u001b[39;49;00m\u001b[38;5;124;43m    if (x < 9) throw new Error(\u001b[39;49m\u001b[38;5;124;43m\"\u001b[39;49m\u001b[38;5;124;43mSmallvalue\u001b[39;49m\u001b[38;5;124;43m\"\u001b[39;49m\u001b[38;5;124;43m)\u001b[39;49m\u001b[38;5;130;43;01m\\n\u001b[39;49;00m\u001b[38;5;124;43m    console.log(x)\u001b[39;49m\u001b[38;5;130;43;01m\\n\u001b[39;49;00m\u001b[38;5;124;43m}\u001b[39;49m\u001b[38;5;130;43;01m\\n\u001b[39;49;00m\u001b[38;5;130;43;01m\\n\u001b[39;49;00m\u001b[38;5;130;43;01m\\n\u001b[39;49;00m\u001b[38;5;124;43mtry\u001b[39;49m\u001b[38;5;124;43m{\u001b[39;49m\u001b[38;5;130;43;01m\\n\u001b[39;49;00m\u001b[38;5;124;43m    setTimeout(printVal, 3000, 6)  \u001b[39;49m\u001b[38;5;130;43;01m\\n\u001b[39;49;00m\u001b[38;5;124;43m}catch(e)\u001b[39;49m\u001b[38;5;124;43m{\u001b[39;49m\u001b[38;5;130;43;01m\\n\u001b[39;49;00m\u001b[38;5;124;43m    console.log(e)\u001b[39;49m\u001b[38;5;130;43;01m\\n\u001b[39;49;00m\u001b[38;5;124;43m}\u001b[39;49m\u001b[38;5;130;43;01m\\n\u001b[39;49;00m\u001b[38;5;124;43m'\u001b[39;49m\u001b[43m)\u001b[49m\n",
      "File \u001b[1;32m~\\AppData\\Local\\Programs\\Python\\Python312\\Lib\\site-packages\\IPython\\core\\interactiveshell.py:2541\u001b[0m, in \u001b[0;36mInteractiveShell.run_cell_magic\u001b[1;34m(self, magic_name, line, cell)\u001b[0m\n\u001b[0;32m   2539\u001b[0m \u001b[38;5;28;01mwith\u001b[39;00m \u001b[38;5;28mself\u001b[39m\u001b[38;5;241m.\u001b[39mbuiltin_trap:\n\u001b[0;32m   2540\u001b[0m     args \u001b[38;5;241m=\u001b[39m (magic_arg_s, cell)\n\u001b[1;32m-> 2541\u001b[0m     result \u001b[38;5;241m=\u001b[39m \u001b[43mfn\u001b[49m\u001b[43m(\u001b[49m\u001b[38;5;241;43m*\u001b[39;49m\u001b[43margs\u001b[49m\u001b[43m,\u001b[49m\u001b[43m \u001b[49m\u001b[38;5;241;43m*\u001b[39;49m\u001b[38;5;241;43m*\u001b[39;49m\u001b[43mkwargs\u001b[49m\u001b[43m)\u001b[49m\n\u001b[0;32m   2543\u001b[0m \u001b[38;5;66;03m# The code below prevents the output from being displayed\u001b[39;00m\n\u001b[0;32m   2544\u001b[0m \u001b[38;5;66;03m# when using magics with decorator @output_can_be_silenced\u001b[39;00m\n\u001b[0;32m   2545\u001b[0m \u001b[38;5;66;03m# when the last Python token in the expression is a ';'.\u001b[39;00m\n\u001b[0;32m   2546\u001b[0m \u001b[38;5;28;01mif\u001b[39;00m \u001b[38;5;28mgetattr\u001b[39m(fn, magic\u001b[38;5;241m.\u001b[39mMAGIC_OUTPUT_CAN_BE_SILENCED, \u001b[38;5;28;01mFalse\u001b[39;00m):\n",
      "File \u001b[1;32m~\\AppData\\Local\\Programs\\Python\\Python312\\Lib\\site-packages\\IPython\\core\\magics\\script.py:315\u001b[0m, in \u001b[0;36mScriptMagics.shebang\u001b[1;34m(self, line, cell)\u001b[0m\n\u001b[0;32m    310\u001b[0m \u001b[38;5;28;01mif\u001b[39;00m args\u001b[38;5;241m.\u001b[39mraise_error \u001b[38;5;129;01mand\u001b[39;00m p\u001b[38;5;241m.\u001b[39mreturncode \u001b[38;5;241m!=\u001b[39m \u001b[38;5;241m0\u001b[39m:\n\u001b[0;32m    311\u001b[0m     \u001b[38;5;66;03m# If we get here and p.returncode is still None, we must have\u001b[39;00m\n\u001b[0;32m    312\u001b[0m     \u001b[38;5;66;03m# killed it but not yet seen its return code. We don't wait for it,\u001b[39;00m\n\u001b[0;32m    313\u001b[0m     \u001b[38;5;66;03m# in case it's stuck in uninterruptible sleep. -9 = SIGKILL\u001b[39;00m\n\u001b[0;32m    314\u001b[0m     rc \u001b[38;5;241m=\u001b[39m p\u001b[38;5;241m.\u001b[39mreturncode \u001b[38;5;129;01mor\u001b[39;00m \u001b[38;5;241m-\u001b[39m\u001b[38;5;241m9\u001b[39m\n\u001b[1;32m--> 315\u001b[0m     \u001b[38;5;28;01mraise\u001b[39;00m CalledProcessError(rc, cell)\n",
      "\u001b[1;31mCalledProcessError\u001b[0m: Command 'b'function printVal(x){\\n    if (x < 9) throw new Error(\"Smallvalue\")\\n    console.log(x)\\n}\\n\\n\\ntry{\\n    setTimeout(printVal, 3000, 6)  \\n}catch(e){\\n    console.log(e)\\n}\\n'' returned non-zero exit status 1."
     ]
    }
   ],
   "source": [
    "%%script node\n",
    "function printVal(x){\n",
    "    if (x < 9) throw new Error(\"Smallvalue\")\n",
    "    console.log(x)\n",
    "}\n",
    "\n",
    "\n",
    "try{\n",
    "    setTimeout(printVal, 3000, 6)  \n",
    "}catch(e){\n",
    "    console.log(e)\n",
    "}\n"
   ]
  },
  {
   "cell_type": "code",
   "execution_count": null,
   "id": "a81cf76c",
   "metadata": {},
   "outputs": [],
   "source": [
    "%%script node\n",
    "const delayedPrintValPromise = new Promise((resolve, reject) => {\n",
    "    setTimeout((x) => {\n",
    "        if (x < 9) reject(new Error(\"Smallvalue\"));\n",
    "        resolve(x)\n",
    "    }, 3000, 5);\n",
    "});\n",
    "\n",
    "delayedPrintValPromise\n",
    "    .then(value => {\n",
    "        console.log(value);\n",
    "    })\n",
    "    .catch(error => {\n",
    "        console.log(error.message);\n",
    "    });"
   ]
  },
  {
   "cell_type": "code",
   "execution_count": 9,
   "id": "09ee6145",
   "metadata": {},
   "outputs": [
    {
     "name": "stdout",
     "output_type": "stream",
     "text": [
      "\u001b[33m16\u001b[39m\n"
     ]
    }
   ],
   "source": [
    "%%script node\n",
    "const delayedPrintValPromise = (y) =>{\n",
    "     return new Promise((resolve, reject) => {\n",
    "         setTimeout((x) => {\n",
    "             if (x < 9) reject(new Error(\"Smallvalue\"));\n",
    "             resolve(x)\n",
    "         }, 3000, y);\n",
    "     });  \n",
    "}\n",
    "\n",
    "delayedPrintValPromise(16)\n",
    "    .then(value => {\n",
    "        console.log(value)\n",
    "    })\n",
    "    .catch(error => {\n",
    "        console.log(error.message);\n",
    "    });"
   ]
  },
  {
   "cell_type": "code",
   "execution_count": 13,
   "id": "5387a55c",
   "metadata": {},
   "outputs": [
    {
     "name": "stdout",
     "output_type": "stream",
     "text": [
      "Smallvalue\n"
     ]
    }
   ],
   "source": [
    "%%script node\n",
    "const delayedPrintValPromise = (y) =>{\n",
    "     return new Promise((resolve, reject) => {\n",
    "         setTimeout((x) => {\n",
    "             if (x < 9) reject(new Error(\"Smallvalue\"));\n",
    "             resolve(x)\n",
    "         }, 3000, y);\n",
    "     });  \n",
    "}\n",
    "\n",
    "async function getValue(){\n",
    "    try{\n",
    "        const ans = await delayedPrintValPromise(5)\n",
    "        console.log(ans) \n",
    "    }catch(e){\n",
    "        console.log(e.message)\n",
    "    }  \n",
    "}\n",
    "\n",
    "getValue()"
   ]
  },
  {
   "cell_type": "code",
   "execution_count": null,
   "id": "734760d0",
   "metadata": {},
   "outputs": [],
   "source": []
  }
 ],
 "metadata": {
  "kernelspec": {
   "display_name": "Python 3 (ipykernel)",
   "language": "python",
   "name": "python3"
  },
  "language_info": {
   "codemirror_mode": {
    "name": "ipython",
    "version": 3
   },
   "file_extension": ".py",
   "mimetype": "text/x-python",
   "name": "python",
   "nbconvert_exporter": "python",
   "pygments_lexer": "ipython3",
   "version": "3.12.3"
  }
 },
 "nbformat": 4,
 "nbformat_minor": 5
}
